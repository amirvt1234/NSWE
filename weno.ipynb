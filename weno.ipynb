{
 "cells": [
  {
   "cell_type": "code",
   "execution_count": 1,
   "metadata": {
    "collapsed": false
   },
   "outputs": [
    {
     "name": "stdout",
     "output_type": "stream",
     "text": [
      "Populating the interactive namespace from numpy and matplotlib\n"
     ]
    }
   ],
   "source": [
    "%pylab inline\n",
    "%reload_ext pyopencl.ipython_ext\n",
    "\n",
    "pylab.rcParams['figure.figsize'] = (10.0, 8.0)\n",
    "import numpy as np\n",
    "import pyopencl as cl \n",
    "\n",
    "import os\n",
    "os.environ[\"PYOPENCL_COMPILER_OUTPUT\"] = \"1\""
   ]
  },
  {
   "cell_type": "code",
   "execution_count": 2,
   "metadata": {
    "collapsed": false
   },
   "outputs": [
    {
     "name": "stdout",
     "output_type": "stream",
     "text": [
      "Using  Quadro 4000\n"
     ]
    }
   ],
   "source": [
    "os.environ[\"PYOPENCL_CTX\"] = \"0\"\n",
    "cl_ctx = cl.create_some_context()\n",
    "print \"Using \", cl_ctx.devices[0].name\n",
    "cl_queue = cl.CommandQueue(cl_ctx)"
   ]
  },
  {
   "cell_type": "code",
   "execution_count": 3,
   "metadata": {
    "collapsed": false
   },
   "outputs": [],
   "source": [
    "%%cl_kernel -o \"-cl-single-precision-constant\"\n",
    "\n",
    "\n",
    "\n",
    "float sigma1 (float f0,float f1, float f2){\n",
    "    return 3.3333333333333333333333333333333333*f0*f0 -  \n",
    "           10.333333333333333333333333333333333*f0*f1 +  \n",
    "           3.6666666666666666666666666666666667*f0*f2 +  \n",
    "           8.3333333333333333333333333333333333*f1*f1 -  \n",
    "           6.3333333333333333333333333333333333*f1*f2 +  \n",
    "           1.3333333333333333333333333333333333*f2*f2 ;\n",
    "}\n",
    "                       \n",
    "float sigma2 (float f0,float f1,float fm1){\n",
    "    return 4.3333333333333333333333333333333333*f0*f0   -  \n",
    "           4.3333333333333333333333333333333333*f0*f1   -  \n",
    "           4.3333333333333333333333333333333333*f0*fm1  +  \n",
    "           1.3333333333333333333333333333333333*f1*f1   +  \n",
    "           1.6666666666666666666666666666666667*f1*fm1  +  \n",
    "           1.3333333333333333333333333333333333*fm1*fm1 ;\n",
    "}\n",
    "    \n",
    "float sigma3 (float f0,float fm1,float fm2){\n",
    "    return 3.3333333333333333333333333333333333*f0*f0   - \n",
    "           10.333333333333333333333333333333333*f0*fm1  + \n",
    "           3.6666666666666666666666666666666667*f0*fm2  + \n",
    "           8.3333333333333333333333333333333333*fm1*fm1 - \n",
    "           6.3333333333333333333333333333333333*fm1*fm2 + \n",
    "           1.3333333333333333333333333333333333*fm2*fm2 ;\n",
    "\n",
    "}\n",
    "\n",
    "float fluxh (float h,float u,float zb,float alpha){\n",
    "    return (h*u + alpha*(h+zb))/2.;    \n",
    "}\n",
    "\n",
    "float fluxu (float h,float u,float zb,float alpha, float G){\n",
    "    return (h*u*u+0.5*G*(h*h-zb*zb) + alpha*(h*u))/2.;\n",
    "}\n",
    "\n",
    "\n",
    "\n",
    "float fluxt (float *fluxccp, float *fluxccm,\n",
    "                            float WCL1, float WCL2, float WCL3, float WCTL, \n",
    "                            float WCR1, float WCR2, float WCR3, float WCTR){\n",
    "    \n",
    "    float FL1 = ( 2.0 * fluxccp[0] - 7.0 * fluxccp[1] + 11.0* fluxccp[2] ) / 6.0;\n",
    "    float FL2 = (     - fluxccp[1] + 5.0 * fluxccp[2] + 2.0 * fluxccp[3] ) / 6.0;\n",
    "    float FL3 = ( 2.0 * fluxccp[2] + 5.0 * fluxccp[3] -       fluxccp[4] ) / 6.0;\n",
    "    float fluxL = (WCL1 * FL1 + WCL2 * FL2 + WCL3 * FL3) / WCTL ;\n",
    "\n",
    "\n",
    "    float FR1 = ( 2.0 * fluxccm[5] - 7.0 * fluxccm[4]  +11.0 * fluxccm[3]  ) / 6.0;\n",
    "    float FR2 = (     - fluxccm[4] + 5.0 * fluxccm[3]  + 2.0 * fluxccm[2]  ) / 6.0;\n",
    "    float FR3 = ( 2.0 * fluxccm[3] + 5.0 * fluxccm[2]  -       fluxccm[1]  ) / 6.0;        \n",
    "    float fluxR = (WCR1 * FR1 + WCR2 * FR2 + WCR3 * FR3) / WCTR;\n",
    "    \n",
    "\n",
    "    return  fluxL + fluxR;\n",
    "}\n",
    "\n",
    "\n",
    "__kernel void swe_2D_hll(\n",
    "        __global float* fh, __global float* fux, __global float* fvx, \n",
    "                            __global float* fuy, __global float* fvy,\n",
    "        __global const float *h, __global const float *u, __global const float *v,\n",
    "        __global const float *zb,\n",
    "        float G, float dt, float dx, float dy, \n",
    "        const int nx, const int ny, const int ng) {\n",
    "\n",
    "\n",
    "    int i = get_global_id(0); \n",
    "    int j = get_global_id(1);\n",
    "    int center = (j+ng)*(nx+2*ng) + i + ng -1 ;\n",
    "    //int right  = (j+ng)*(nx+2*ng) + i + ng + 1 ;\n",
    "    //int left   = (j+ng)*(nx+2*ng) + i + ng - 1 ;\n",
    "    \n",
    "    int ic = 2;    \n",
    "    \n",
    "    \n",
    "   \n",
    "    float fluxh_m[6], fluxu_m[6], fluxh_p[6], fluxu_p[6], zb_half[6];\n",
    "\n",
    " \n",
    "\n",
    "    float alpha = 0.0;\n",
    "    //alpha = max(alpha,1.*(pow((u[center-1]*u[center-1]),0.5)+pow((G*h[center-1]),0.5)));\n",
    "    int ii;\n",
    "    for(ii = 0; ii<6; ii++){\n",
    "        \n",
    "        alpha = max(alpha, 1.*(pow((u[center-2+ii]*u[center-2+ii]),0.5)+pow((G*h[center-2+ii]),0.5)));\n",
    "    }\n",
    "    \n",
    "\n",
    "    for(ii = 0; ii < 6; ii++) {\n",
    "        fluxh_m[ii] = fluxh (h[center-2+ii],u[center-2+ii],zb[center-2+ii],-alpha);\n",
    "        fluxu_m[ii] = fluxu (h[center-2+ii],u[center-2+ii],zb[center-2+ii],-alpha,G);\n",
    "        fluxh_p[ii] = fluxh (h[center-2+ii],u[center-2+ii],zb[center-2+ii],+alpha);\n",
    "        fluxu_p[ii] = fluxu (h[center-2+ii],u[center-2+ii],zb[center-2+ii],+alpha,G);\n",
    "        zb_half[ii] = zb[center-2+ii]/2.0; \n",
    "        \n",
    "    }\n",
    "\n",
    "   \n",
    "    float WD1   = 0.1;\n",
    "    float WD2   = 0.6;\n",
    "    float WD3   = 0.3;\n",
    "    float eps   = 10.e-5;\n",
    "     \n",
    "    float IS1  = sigma1(fluxh_p[ic],fluxh_p[ic-1],fluxh_p[ic-2]);\n",
    "    float IS2  = sigma2(fluxh_p[ic],fluxh_p[ic+1],fluxh_p[ic-1]);\n",
    "    float IS3  = sigma3(fluxh_p[ic],fluxh_p[ic+1],fluxh_p[ic+2]);\n",
    "    \n",
    "    float WCL1 = WD1 / pow((eps+IS1),2);\n",
    "    float WCL2 = WD2 / pow((eps+IS2),2);\n",
    "    float WCL3 = WD3 / pow((eps+IS3),2);\n",
    "    float WCTL = WCL1 + WCL2 + WCL3;\n",
    "    \n",
    "    IS1  =  sigma1(fluxu_m[ic+1],fluxu_m[ic+1-1],fluxu_m[ic+1-2]);\n",
    "    IS2  =  sigma2(fluxu_m[ic+1],fluxu_m[ic+1+1],fluxu_m[ic+1-1]);\n",
    "    IS3  =  sigma3(fluxu_m[ic+1],fluxu_m[ic+1+1],fluxu_m[ic+1+2]);\n",
    "    \n",
    "    float WCR3 = WD1 / pow((eps+IS1),2);\n",
    "    float WCR2 = WD2 / pow((eps+IS2),2);\n",
    "    float WCR1 = WD3 / pow((eps+IS3),2);\n",
    "    float WCTR = WCR1 + WCR2 + WCR3;\n",
    "    \n",
    "\n",
    "    \n",
    "   \n",
    "    fh[center+1]  = fluxt (fluxh_p, fluxh_m, WCL1, WCL2, WCL3, WCTL, \n",
    "                                           WCR1, WCR2, WCR3, WCTR);\n",
    "    \n",
    "\n",
    "    fux[center+1] = fluxt (fluxu_p, fluxu_m, WCL1, WCL2, WCL3, WCTL, \n",
    "                                           WCR1, WCR2, WCR3, WCTR);\n",
    "    fvx[center] = 0.0;\n",
    "    fuy[center] = 0.0;\n",
    "    fvy[center] = 0.0;\n",
    "    \n",
    "\n",
    "\n",
    "    \n",
    " \n",
    "    \n",
    "\n",
    "}"
   ]
  },
  {
   "cell_type": "code",
   "execution_count": 4,
   "metadata": {
    "collapsed": false
   },
   "outputs": [],
   "source": [
    "%%cl_kernel \n",
    "__kernel void update_nsw(\n",
    "        __global float *ho, __global float *uo, __global float *vo,\n",
    "        __global const float* fh, __global const float* fux, __global const float* fvx, \n",
    "                                  __global const float* fuy, __global const float* fvy,\n",
    "        __global const float *h, __global const float *u, __global const float *v, \n",
    "        float G, float dt, float dx, float dy, \n",
    "        const int nx, const int ny, const int ng) {\n",
    "    \n",
    "    int i = get_global_id(0); \n",
    "    int j = get_global_id(1);\n",
    "    int center = (j+ng)*(nx+2*ng) + i + ng ;\n",
    "    int right  = (j+ng)*(nx+2*ng) + i + ng + 1 ;\n",
    "    //int left   = (j+ng)*(nx+2*ng) + i + ng - 1 ;\n",
    "    \n",
    "    float Resh = -(   fh[right]-fh[center])/dx;\n",
    "    float Resu = -(  (fux[right]-fux[center]) +  0.f )/dx;\n",
    "            \n",
    "    ho  [center]  = h[center]  + Resh*dt;\n",
    "    uo  [center]  = (h[center]*u[center]  + Resu*dt)/h[center]; \n",
    "    vo  [center]  = 0.f;\n",
    "    \n",
    "}\n"
   ]
  },
  {
   "cell_type": "code",
   "execution_count": 5,
   "metadata": {
    "collapsed": false
   },
   "outputs": [],
   "source": [
    "%%cl_kernel\n",
    "__kernel void swe_2D_bc(__global float* h, __global float* u, __global float* v) {\n",
    "    //Get total number of cells\n",
    "    int nx = get_global_size(0); \n",
    "    int ny = get_global_size(1);\n",
    "\n",
    "    //Get position in grid\n",
    "    int i = get_global_id(0); \n",
    "    int j = get_global_id(1); \n",
    "\n",
    "    //Calculate the four indices of our neighboring cells\n",
    "    int center = j*nx + i;\n",
    "    int north = (j+1)*nx + i;\n",
    "    int south = (j-1)*nx + i;\n",
    "    int east = j*nx + i+1;\n",
    "    int west = j*nx + i-1;\n",
    "\n",
    "    if (i <3) {\n",
    "        h[center] = 1.2;//h[east];\n",
    "        u[center] = 0.0;//u[east];\n",
    "        v[center] = 0.0;//v[east];\n",
    "    }\n",
    "    else if (i >nx-4) {\n",
    "        h[center] = 1.0;//h[west];\n",
    "        u[center] = 0.0;//u[west];\n",
    "        u[center] = 0.0;//v[west];\n",
    "    }\n",
    "    else if (j <3) {\n",
    "        h[center] = 1.2;//h[north];\n",
    "        u[center] = 0.0;//u[north];\n",
    "        v[center] = 0.0;//v[north];\n",
    "    }\n",
    "    else if (j == ny-1) {\n",
    "        h[center] = 1.2;//h[south];\n",
    "        u[center] = 0.0;//u[south];\n",
    "        v[center] = 0.0;//v[south];\n",
    "    }\n",
    "}"
   ]
  },
  {
   "cell_type": "code",
   "execution_count": 6,
   "metadata": {
    "collapsed": false
   },
   "outputs": [],
   "source": [
    "G = np.float32(9.81)\n",
    "nx      = 200; dt = 2.e-5; ng      = 3; xlength = np.float32(2.); bump    = 0.2; \n",
    "dx      = np.float32(xlength/nx)\n",
    "ny = 10;\n",
    "mf  = cl.mem_flags\n",
    "#hin = np.zeros((nx+2*ng, ny+2*ng), dtype=np.float32, order='F');\n",
    "#hin[x<1.] = 2.\n",
    "x   = linspace(-(ng-0.5)*dx, xlength+(ng-0.5)*dx, nx+2*ng, dtype=np.float64)\n",
    "hin = np.ones((nx+2*ng, ny+2*ng), dtype=np.float32, order='F');\n",
    "hin[x<1.,:] = np.float32(1.2)\n",
    "uin = np.zeros((nx+2*ng, ny+2*ng), dtype=np.float32, order='F');\n",
    "vin = np.zeros((nx+2*ng, ny+2*ng), dtype=np.float32, order='F');\n",
    "zbin = np.zeros((nx+2*ng, ny+2*ng), dtype=np.float32, order='F');\n",
    "h  = cl.Buffer(cl_ctx, mf.READ_WRITE | mf.COPY_HOST_PTR, hostbuf=hin)\n",
    "u  = cl.Buffer(cl_ctx, mf.READ_WRITE | mf.COPY_HOST_PTR, hostbuf=uin)\n",
    "v  = cl.Buffer(cl_ctx, mf.READ_WRITE | mf.COPY_HOST_PTR, hostbuf=vin)\n",
    "zb  = cl.Buffer(cl_ctx, mf.READ_WRITE | mf.COPY_HOST_PTR, hostbuf=zbin)\n",
    "\n",
    "fh   = cl.Buffer(cl_ctx, mf.READ_WRITE| mf.COPY_HOST_PTR, hostbuf=uin)\n",
    "fux  = cl.Buffer(cl_ctx, mf.READ_WRITE| mf.COPY_HOST_PTR, hostbuf=uin)\n",
    "fuy  = cl.Buffer(cl_ctx, mf.READ_WRITE| mf.COPY_HOST_PTR, hostbuf=uin)\n",
    "fvx  = cl.Buffer(cl_ctx, mf.READ_WRITE| mf.COPY_HOST_PTR, hostbuf=uin)\n",
    "fvy  = cl.Buffer(cl_ctx, mf.READ_WRITE| mf.COPY_HOST_PTR, hostbuf=uin)\n",
    "\n",
    "ho  = cl.Buffer(cl_ctx, mf.READ_WRITE| mf.COPY_HOST_PTR, hostbuf=hin)\n",
    "uo  = cl.Buffer(cl_ctx, mf.READ_WRITE| mf.COPY_HOST_PTR, hostbuf=uin)\n",
    "vo  = cl.Buffer(cl_ctx, mf.READ_WRITE| mf.COPY_HOST_PTR, hostbuf=vin)\n",
    "\n",
    "\n"
   ]
  },
  {
   "cell_type": "code",
   "execution_count": 7,
   "metadata": {
    "collapsed": false
   },
   "outputs": [
    {
     "data": {
      "text/plain": [
       "<pyopencl.cffi_cl.NannyEvent at 0x7ff1f9531d90>"
      ]
     },
     "execution_count": 7,
     "metadata": {},
     "output_type": "execute_result"
    }
   ],
   "source": [
    "            \n",
    "for i in range(0, 10000):\n",
    "    \n",
    "    #swe_2D_bc(cl_queue, (nx+2*ng, ny+2*ng), None, \n",
    "    #               h, u, v)\n",
    "        \n",
    "    #print ng\n",
    "    swe_2D_hll( cl_queue, (nx+1, ny+1), None, \n",
    "                  fh, fux, fvx, \n",
    "                  fuy, fvy,\n",
    "                  h, u, v, \n",
    "                  zb,\n",
    "                  np.float32(G), np.float32(dt), np.float32(dx), np.float32(dx), \n",
    "                  np.int32(nx), np.int32(ny), np.int32(ng))\n",
    "    update_nsw( cl_queue, (nx, ny), None, \n",
    "                  ho, uo, vo,\n",
    "                  fh, fux, fvx, \n",
    "                  fuy, fvy,\n",
    "                  h, u, v, \n",
    "                  np.float32(G), np.float32(dt), np.float32(dx), np.float32(dx), \n",
    "                  np.int32(nx), np.int32(ny), np.int32(ng))\n",
    "       \n",
    "\n",
    "    h = ho\n",
    "    u = uo\n",
    "    v = vo \n",
    "\n",
    "hout  = np.empty((nx+2*ng, ny+2*ng), dtype=np.float32, order='F')\n",
    "cl.enqueue_copy(cl_queue, hout, ho)\n",
    "uout  = np.empty((nx+2*ng, ny+2*ng), dtype=np.float32, order='F')\n",
    "cl.enqueue_copy(cl_queue, uout, uo)\n",
    "\n"
   ]
  },
  {
   "cell_type": "code",
   "execution_count": 8,
   "metadata": {
    "collapsed": false
   },
   "outputs": [
    {
     "data": {
      "text/plain": [
       "[<matplotlib.lines.Line2D at 0x7ff1f5277e90>]"
      ]
     },
     "execution_count": 8,
     "metadata": {},
     "output_type": "execute_result"
    },
    {
     "data": {
      "image/png": "[encoded data removed]",
      "text/plain": [
       "<matplotlib.figure.Figure at 0x7ff1f9531150>"
      ]
     },
     "metadata": {},
     "output_type": "display_data"
    }
   ],
   "source": [
    "plot(hout[:,4])"
   ]
  },
  {
   "cell_type": "code",
   "execution_count": null,
   "metadata": {
    "collapsed": false
   },
   "outputs": [],
   "source": []
  },
  {
   "cell_type": "code",
   "execution_count": null,
   "metadata": {
    "collapsed": false
   },
   "outputs": [],
   "source": []
  },
  {
   "cell_type": "code",
   "execution_count": null,
   "metadata": {
    "collapsed": true
   },
   "outputs": [],
   "source": []
  },
  {
   "cell_type": "code",
   "execution_count": null,
   "metadata": {
    "collapsed": true
   },
   "outputs": [],
   "source": []
  },
  {
   "cell_type": "code",
   "execution_count": null,
   "metadata": {
    "collapsed": false
   },
   "outputs": [],
   "source": [
    "\n"
   ]
  },
  {
   "cell_type": "code",
   "execution_count": null,
   "metadata": {
    "collapsed": false
   },
   "outputs": [],
   "source": []
  },
  {
   "cell_type": "code",
   "execution_count": null,
   "metadata": {
    "collapsed": false
   },
   "outputs": [],
   "source": []
  },
  {
   "cell_type": "code",
   "execution_count": null,
   "metadata": {
    "collapsed": true
   },
   "outputs": [],
   "source": []
  }
 ],
 "metadata": {
  "kernelspec": {
   "display_name": "Python 2",
   "language": "python",
   "name": "python2"
  },
  "language_info": {
   "codemirror_mode": {
    "name": "ipython",
    "version": 2
   },
   "file_extension": ".py",
   "mimetype": "text/x-python",
   "name": "python",
   "nbconvert_exporter": "python",
   "pygments_lexer": "ipython2",
   "version": "2.7.6"
  }
 },
 "nbformat": 4,
 "nbformat_minor": 0
}
